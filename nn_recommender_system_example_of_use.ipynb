{
  "nbformat": 4,
  "nbformat_minor": 0,
  "metadata": {
    "colab": {
      "name": "nn_recommender_system.ipynb",
      "provenance": []
    },
    "kernelspec": {
      "name": "python3",
      "display_name": "Python 3"
    },
    "language_info": {
      "name": "python"
    }
  },
  "cells": [
    {
      "cell_type": "code",
      "execution_count": 1,
      "metadata": {
        "id": "-SCMHS7TmDLt"
      },
      "outputs": [],
      "source": [
        "import numpy as np"
      ]
    },
    {
      "cell_type": "code",
      "source": [
        "def generate_ratings(nb_rows, nb_cols, min_nb_recomm=1, max_nb_recomm=2, min_rating =1, max_rating=5, seed = 0):\n",
        "  '''Function to generate test rating matrices \n",
        "  nb_rows : nb of users\n",
        "  nb_cols : nb of items\n",
        "  min_nb_recomm : minimum number of recommendation for each user\n",
        "  max_nb_recomm : max number of recommendation for each user\n",
        "  min_rating : minimum rating possible \n",
        "  max_rating : maximum rating possible\n",
        "  seed : np random seed for reproducibility '''\n",
        "  np.random.seed(seed)\n",
        "  ratings = np.zeros((nb_rows,nb_cols))\n",
        "\n",
        "  for i in range(nb_rows):\n",
        "\n",
        "    nb_recomm = np.random.randint(min_nb_recomm, max_nb_recomm+1)\n",
        "\n",
        "    indexes = np.random.choice(np.arange(nb_cols), nb_recomm, replace = False)\n",
        "\n",
        "    for index in indexes :\n",
        "      ratings[i,index] = np.random.randint(min_rating, max_rating)\n",
        "  return ratings.astype(int)\n",
        "\n",
        "ratings = generate_ratings(500,1000,2,5)"
      ],
      "metadata": {
        "id": "_xwfd8EapaqG"
      },
      "execution_count": 2,
      "outputs": []
    },
    {
      "cell_type": "code",
      "source": [
        "class nn_recommender :\n",
        "\n",
        "\n",
        "  '''Nearest neighbors based recommender system'''\n",
        "\n",
        "  def __init__(self, nb_neighbors, nb_sample):\n",
        "    '''Instantiates class\n",
        "    nb_neighbors : number of closest neighbors to consider to make predictions\n",
        "    nb_sample : To lower computationnal cost, we sample a number nb_sample of rows from initial matrix and look from closest neighbors among these sampled rows'''\n",
        "    self.nb_neighbors = nb_neighbors\n",
        "    self.nb_sample = nb_sample\n",
        "  \n",
        "  def get_recommendation(self, ratings, user, nb_recommendations=2):\n",
        "    '''Get recommended items id for given user\n",
        "    ratings : rating matrix\n",
        "    user : user id\n",
        "    nb_recommendations : number of items to recommend'''\n",
        "\n",
        "    indexes = np.random.choice(len(ratings), self.nb_sample, replace=False)\n",
        "    indexes =[index for index in indexes if index != user]\n",
        "\n",
        "    sampled_mat = ratings[indexes]\n",
        "\n",
        "    user_vect = ratings[user] \n",
        "\n",
        "    squared_dist = (sampled_mat-user_vect)**2\n",
        "      \n",
        "    distances = np.sum(squared_dist, axis = 1)\n",
        "\n",
        "    sorted_distances_idx = np.argsort(distances)\n",
        "\n",
        "    neighbors_indexes = sorted_distances_idx[-self.nb_neighbors:]\n",
        "\n",
        "    for i in range(self.nb_neighbors) :\n",
        "\n",
        "      if i == 0:\n",
        "        res = ratings[neighbors_indexes[i]]\n",
        "      else :\n",
        "        res += ratings[neighbors_indexes[i]]\n",
        "      \n",
        "    res = res / self.nb_neighbors\n",
        "\n",
        "    ordered_item_indexes = np.argsort(res)\n",
        "\n",
        "    ordered_item_indexes = [index for index in ordered_item_indexes if user_vect[index]>0]\n",
        "\n",
        "    recommendations = ordered_item_indexes[-nb_recommendations:]\n",
        "      \n",
        "\n",
        "    return(recommendations)\n"
      ],
      "metadata": {
        "id": "pEhtcYi7mxWD"
      },
      "execution_count": 7,
      "outputs": []
    },
    {
      "cell_type": "code",
      "source": [
        "rs = nn_recommender(10,200)"
      ],
      "metadata": {
        "id": "TLDOgRPRpmq_"
      },
      "execution_count": 8,
      "outputs": []
    },
    {
      "cell_type": "code",
      "source": [
        "rs.get_recommendation(ratings, 300)"
      ],
      "metadata": {
        "colab": {
          "base_uri": "https://localhost:8080/"
        },
        "id": "_k9wNwIEprQv",
        "outputId": "5f997516-02f1-4ab6-c79a-c7c06a4c988f"
      },
      "execution_count": 9,
      "outputs": [
        {
          "output_type": "execute_result",
          "data": {
            "text/plain": [
              "[177, 395]"
            ]
          },
          "metadata": {},
          "execution_count": 9
        }
      ]
    }
  ]
}