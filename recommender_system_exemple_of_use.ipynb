{
  "nbformat": 4,
  "nbformat_minor": 0,
  "metadata": {
    "colab": {
      "name": "recommender_system_exemple_of_use.ipynb",
      "provenance": []
    },
    "kernelspec": {
      "name": "python3",
      "display_name": "Python 3"
    },
    "language_info": {
      "name": "python"
    }
  },
  "cells": [
    {
      "cell_type": "code",
      "source": [
        "import numpy as np\n",
        "import matplotlib.pyplot as plt"
      ],
      "metadata": {
        "id": "gyPaq4rctRPU"
      },
      "execution_count": 94,
      "outputs": []
    },
    {
      "cell_type": "code",
      "source": [
        "def generate_ratings(nb_rows, nb_cols, min_nb_recomm=1, max_nb_recomm=2, min_rating =1, max_rating=5, seed = 0):\n",
        "  '''Function to generate test rating matrices \n",
        "  nb_rows : nb of users\n",
        "  nb_cols : nb of items\n",
        "  min_nb_recomm : minimum number of recommendation for each user\n",
        "  max_nb_recomm : max number of recommendation for each user\n",
        "  min_rating : minimum rating possible \n",
        "  max_rating : maximum rating possible\n",
        "  seed : np random seed for reproducibility '''\n",
        "  np.random.seed(seed)\n",
        "  ratings = np.zeros((nb_rows,nb_cols))\n",
        "\n",
        "  for i in range(nb_rows):\n",
        "\n",
        "    nb_recomm = np.random.randint(min_nb_recomm, max_nb_recomm+1)\n",
        "\n",
        "    indexes = np.random.choice(np.arange(nb_cols), nb_recomm, replace = False)\n",
        "\n",
        "    for index in indexes :\n",
        "      ratings[i,index] = np.random.randint(min_rating, max_rating)\n",
        "  return ratings.astype(int)\n",
        "\n",
        "ratings = generate_ratings(500,1000,2,5)"
      ],
      "metadata": {
        "id": "pSbBEWotBk6j"
      },
      "execution_count": 125,
      "outputs": []
    },
    {
      "cell_type": "code",
      "source": [
        "class recommender_system:\n",
        "  '''Simple recommender system class based on matrix factorization'''\n",
        "\n",
        "  def __init__(self, k, lr, lambda_reg):\n",
        "    '''Instantiates recommendation_system class.\n",
        "    k : rank dimension of factorized matrix\n",
        "    lr : learning rate\n",
        "    lambda_reg : regularization parameter\n",
        "    max_value : maximum value possible for the generated matrices to avoid overflow'''\n",
        "    self.k = k\n",
        "    self.lr = lr\n",
        "    self.lambda_reg = lambda_reg\n",
        "    return None\n",
        "\n",
        "  def instantiate_matrices(self):\n",
        "    '''Instantiate factorized matrixes'''\n",
        "    self.first_mat = np.random.randn(self.nb_rows, self.k)\n",
        "    self.second_mat = np.random.randn(self.nb_cols, self.k)\n",
        "\n",
        "  def instantiate_initially_pressent_items(self):\n",
        "    '''Creates a 2d list from Ratings. Each row i of this list contains the items that the user i has already rated'''\n",
        "    self.tested_items = [[] for i in range(self.nb_rows)]\n",
        "    for row, col, _ in self.Ratings:\n",
        "      self.tested_items[row].append(col)\n",
        "\n",
        "  def load_sparse_data(self,file_, delimiter = \",\", nb_rows_to_keep = -1, nb_cols_to_keep =-1, shuffle_matrix = True):\n",
        "    '''Load data and shape it correctly for recommendation. Output format is a 2d numpy array. Each element of this output\n",
        "      is in the format [row of the rating, column of the rating, Rating]\n",
        "    file : either path to txt or csv file containing the dataset, or matrix to be used for recommendation. If file is a path\n",
        "    shuffle_matrix : Boolean. if set to True\n",
        "    nb_rows_to_keep : Number of rows to keep (if negative, keep all rows)\n",
        "    nb_cols_to_keep : Number of columns to keep (if negative, keep all rows)'''\n",
        "\n",
        "    if isinstance(file_,str):\n",
        "      grade_matrix = np.genfromtxt(file_, delimiter, dtype = \"int32\")\n",
        "\n",
        "    else:\n",
        "      grade_matrix = file_\n",
        "\n",
        "    self.nb_rows = len(grade_matrix)\n",
        "    self.nb_cols = len(grade_matrix[0])\n",
        "\n",
        "    if nb_rows_to_keep >0 and nb_rows_to_keep < len(grade_matrix):\n",
        "      grade_matrix = grade_matrix[:nb_rows_to_keep]\n",
        "      self.nb_rows = len(grade_matrix)\n",
        "\n",
        "    if nb_cols_to_keep >0 and nb_cols_to_keep < len(grade_matrix[0]):\n",
        "      grade_matrix = grade_matrix[:,:nb_cols_to_keep]\n",
        "      self.nb_cols = len(grade_matrix[0])\n",
        "\n",
        "    self.instantiate_matrices()\n",
        "\n",
        "    non_zero_indexes = np.nonzero(grade_matrix)\n",
        "\n",
        "    n = len(non_zero_indexes[0])\n",
        "    put_in_shape_matrix = np.array([[non_zero_indexes[0][i], non_zero_indexes[1][i], grade_matrix[non_zero_indexes[0][i], non_zero_indexes[1][i]]] for i in range(n)])\n",
        "    put_in_shape_matrix = put_in_shape_matrix.astype(int)\n",
        "\n",
        "    if shuffle_matrix:\n",
        "      np.random.shuffle(put_in_shape_matrix)\n",
        "\n",
        "    self.Ratings = put_in_shape_matrix\n",
        "\n",
        "    self.instantiate_initially_pressent_items()\n",
        "    return None\n",
        "\n",
        "\n",
        "  def root_mean_square_error(self, first_mat, second_mat):\n",
        "    '''Compute avera root mean square error'''\n",
        "    error = 0\n",
        "    Ratings = self.Ratings\n",
        "    for row,col,rating in Ratings:\n",
        "      predicted_ratings = first_mat[row].dot(second_mat[col].T)\n",
        "      error += (rating-predicted_ratings)**2\n",
        "\n",
        "    error = error / len(Ratings)\n",
        "    return np.sqrt(error)\n",
        "\n",
        "  def sgd_gradient_step(self):\n",
        "    '''Stochastic gradient descent of factorized matrixes over a batch of indexex\n",
        "    batch_indexes : array containing [row,col,rating] elements\n",
        "    '''\n",
        "    for row,col,rating in self.Ratings:\n",
        "\n",
        "      predicted_rating = self.first_mat[row].dot(self.second_mat[col].T)\n",
        "      error = rating - predicted_rating\n",
        "\n",
        "      self.first_mat += self.lr*(error*self.second_mat[col] - self.lambda_reg*self.first_mat[row])\n",
        "      self.second_mat += self.lr*(error*self.first_mat[row] - self.lambda_reg*self.second_mat[col])\n",
        "\n",
        "  def matrix_factorization(self, number_iterations):\n",
        "    losses = []\n",
        "    for i in range(number_iterations):\n",
        "      self.sgd_gradient_step()\n",
        "      loss = self.root_mean_square_error(self.first_mat, self.second_mat)\n",
        "      losses.append(loss)\n",
        "      print(\"RMSE after epoch is :\",loss)\n",
        "    return losses\n",
        "\n",
        "  def get_recommendation(self, user_id, nb_recom = 2):\n",
        "    curr_ratings = np.array(np.matmul(self.first_mat, self.second_mat.T)[user_id])\n",
        "\n",
        "    ordered_item_indexes = np.argsort(curr_ratings)\n",
        "    ordered_item_indexes = [index for index in ordered_item_indexes if index not in self.tested_items[user_id]]\n",
        "    nb_recom = nb_recom if nb_recom< len(ordered_item_indexes) else len(ordered_item_indexes)\n",
        "    recommendations = ordered_item_indexes[-nb_recom:]\n",
        "\n",
        "    return recommendations\n",
        "    \n",
        "    "
      ],
      "metadata": {
        "id": "YnxxhuTvsz19"
      },
      "execution_count": 126,
      "outputs": []
    },
    {
      "cell_type": "code",
      "source": [
        "rec_sys = recommender_system(70, 0.0001, 1)\n",
        "rec_sys.load_sparse_data(ratings)"
      ],
      "metadata": {
        "id": "Om_WI8yxEHx-"
      },
      "execution_count": 133,
      "outputs": []
    },
    {
      "cell_type": "code",
      "source": [
        "n_epochs = 50\n",
        "losses = rec_sys.matrix_factorization(n_epochs)"
      ],
      "metadata": {
        "colab": {
          "base_uri": "https://localhost:8080/"
        },
        "id": "-tbeBZYGEUtD",
        "outputId": "81f63800-7e4a-4967-d5bb-15b7867c50c2"
      },
      "execution_count": 134,
      "outputs": [
        {
          "output_type": "stream",
          "name": "stdout",
          "text": [
            "RMSE after epoch is : 8.653861783601444\n",
            "RMSE after epoch is : 8.53510495818391\n",
            "RMSE after epoch is : 8.430050131593788\n",
            "RMSE after epoch is : 8.346910740133831\n",
            "RMSE after epoch is : 8.29024471262152\n",
            "RMSE after epoch is : 8.25507661597453\n",
            "RMSE after epoch is : 8.233830198231233\n",
            "RMSE after epoch is : 8.220821267740677\n",
            "RMSE after epoch is : 8.212626221804426\n",
            "RMSE after epoch is : 8.20730244081037\n",
            "RMSE after epoch is : 8.203744310456674\n",
            "RMSE after epoch is : 8.201306620415291\n",
            "RMSE after epoch is : 8.199600760927165\n",
            "RMSE after epoch is : 8.19838508761577\n",
            "RMSE after epoch is : 8.197504873763702\n",
            "RMSE after epoch is : 8.196858485502196\n",
            "RMSE after epoch is : 8.196377700742865\n",
            "RMSE after epoch is : 8.196015876062292\n",
            "RMSE after epoch is : 8.195740612981828\n",
            "RMSE after epoch is : 8.195529091161252\n",
            "RMSE after epoch is : 8.19536503201143\n",
            "RMSE after epoch is : 8.195236686301664\n",
            "RMSE after epoch is : 8.19513547958447\n",
            "RMSE after epoch is : 8.195055088151715\n",
            "RMSE after epoch is : 8.194990801156651\n",
            "RMSE after epoch is : 8.194939075455995\n",
            "RMSE after epoch is : 8.194897221740508\n",
            "RMSE after epoch is : 8.19486318104185\n",
            "RMSE after epoch is : 8.194835364062447\n",
            "RMSE after epoch is : 8.19481253458537\n",
            "RMSE after epoch is : 8.194793724096025\n",
            "RMSE after epoch is : 8.194778168702067\n",
            "RMSE after epoch is : 8.194765262124902\n",
            "RMSE after epoch is : 8.194754520375314\n",
            "RMSE after epoch is : 8.194745554996524\n",
            "RMSE after epoch is : 8.194738052641254\n",
            "RMSE after epoch is : 8.194731759370411\n",
            "RMSE after epoch is : 8.194726468498216\n",
            "RMSE after epoch is : 8.194722011121717\n",
            "RMSE after epoch is : 8.194718248696676\n",
            "RMSE after epoch is : 8.194715067184044\n",
            "RMSE after epoch is : 8.194712372409843\n",
            "RMSE after epoch is : 8.194710086368366\n",
            "RMSE after epoch is : 8.194708144262606\n",
            "RMSE after epoch is : 8.194706492124649\n",
            "RMSE after epoch is : 8.194705084893943\n",
            "RMSE after epoch is : 8.194703884859468\n",
            "RMSE after epoch is : 8.194702860392043\n",
            "RMSE after epoch is : 8.194701984909136\n",
            "RMSE after epoch is : 8.194701236026685\n"
          ]
        }
      ]
    },
    {
      "cell_type": "code",
      "source": [
        "plt.plot(range(n_epochs),losses)\n",
        "plt.show()"
      ],
      "metadata": {
        "colab": {
          "base_uri": "https://localhost:8080/",
          "height": 265
        },
        "id": "Rvu1EfTsEoiW",
        "outputId": "d8852a93-3e54-46b0-df1d-6cfdc8eb8a62"
      },
      "execution_count": 135,
      "outputs": [
        {
          "output_type": "display_data",
          "data": {
            "text/plain": [
              "<Figure size 432x288 with 1 Axes>"
            ],
            "image/png": "[encoded data removed]"
          },
          "metadata": {
            "needs_background": "light"
          }
        }
      ]
    },
    {
      "cell_type": "code",
      "source": [
        "rec_sys.get_recommendation(2)"
      ],
      "metadata": {
        "colab": {
          "base_uri": "https://localhost:8080/"
        },
        "id": "QrwBqhO3E6It",
        "outputId": "7fcf421a-6794-4fea-c1e8-285f8f8ce0fe"
      },
      "execution_count": 136,
      "outputs": [
        {
          "output_type": "execute_result",
          "data": {
            "text/plain": [
              "[728, 318]"
            ]
          },
          "metadata": {},
          "execution_count": 136
        }
      ]
    }
  ]
}