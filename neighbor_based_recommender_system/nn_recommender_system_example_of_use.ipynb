{
  "nbformat": 4,
  "nbformat_minor": 0,
  "metadata": {
    "colab": {
      "name": "nn_recommender_system.ipynb",
      "provenance": []
    },
    "kernelspec": {
      "name": "python3",
      "display_name": "Python 3"
    },
    "language_info": {
      "name": "python"
    }
  },
  "cells": [
    {
      "cell_type": "markdown",
      "source": [
        "Simple nearest neighbor based recommender system :\n",
        "\n",
        "Given a rating matrix $(r_{(i,j)})_{i,j=1}^{i=nb\\_users, j = nb\\_items}$, and a user of index $i\\_user$ we sample n users from the rating matrix.\n",
        "\n",
        "Among these n users, we keep the k closest neighbors in terms of rating to our user of index $i\\_user$.\n",
        "\n",
        "We average the ratings of the k picked neighbors, and the recommended items are the items (not yet rated by user $i\\_user$) with highest value."
      ],
      "metadata": {
        "id": "_XBfcCNP8rjk"
      }
    },
    {
      "cell_type": "code",
      "execution_count": 1,
      "metadata": {
        "id": "-SCMHS7TmDLt"
      },
      "outputs": [],
      "source": [
        "import numpy as np"
      ]
    },
    {
      "cell_type": "markdown",
      "source": [
        "Below a toy function to generate rating matrixes"
      ],
      "metadata": {
        "id": "VNzfUVnB-ANz"
      }
    },
    {
      "cell_type": "code",
      "source": [
        "def generate_ratings(nb_rows, nb_cols, min_nb_recomm=1, max_nb_recomm=2, min_rating =1, max_rating=5, seed = 0):\n",
        "  '''Function to generate test rating matrices \n",
        "  nb_rows : nb of users\n",
        "  nb_cols : nb of items\n",
        "  min_nb_recomm : minimum number of recommendation for each user\n",
        "  max_nb_recomm : max number of recommendation for each user\n",
        "  min_rating : minimum rating possible \n",
        "  max_rating : maximum rating possible\n",
        "  seed : np random seed for reproducibility '''\n",
        "  np.random.seed(seed)\n",
        "  ratings = np.zeros((nb_rows,nb_cols))\n",
        "\n",
        "  for i in range(nb_rows):\n",
        "\n",
        "    nb_recomm = np.random.randint(min_nb_recomm, max_nb_recomm+1)\n",
        "\n",
        "    indexes = np.random.choice(np.arange(nb_cols), nb_recomm, replace = False)\n",
        "\n",
        "    for index in indexes :\n",
        "      ratings[i,index] = np.random.randint(min_rating, max_rating)\n",
        "  return ratings.astype(int)\n",
        "\n",
        "ratings = generate_ratings(500,1000,2,5)"
      ],
      "metadata": {
        "id": "_xwfd8EapaqG"
      },
      "execution_count": 2,
      "outputs": []
    },
    {
      "cell_type": "markdown",
      "source": [
        "Below the nearest neighbors based recommender system"
      ],
      "metadata": {
        "id": "tduJ0Mk--DfP"
      }
    },
    {
      "cell_type": "code",
      "source": [
        "class nn_recommender :\n",
        "\n",
        "  '''Nearest neighbors based recommender system'''\n",
        "\n",
        "  def __init__(self, nb_neighbors, nb_sample):\n",
        "    '''Instantiates class\n",
        "    nb_neighbors : number of closest neighbors to consider to make predictions\n",
        "    nb_sample : To lower computationnal cost, we sample a number nb_sample of rows from initial matrix and look from closest neighbors among these sampled rows'''\n",
        "    self.nb_neighbors = nb_neighbors\n",
        "    self.nb_sample = nb_sample\n",
        "  \n",
        "  def get_full_matrix_from_sparse(self, sparse, max_col = None):\n",
        "\n",
        "    '''Function to get full matrix from sparse matrix with rows [user_id, item_id, rating]\n",
        "    sparse : sparse matrix\n",
        "    max_col : max item id'''\n",
        "\n",
        "    max_row = np.max(sparse[:,0])+1\n",
        "    max_col = max_col if max_col else (np.max(sparse[:,1])+1)\n",
        "\n",
        "    result = np.zeros((max_row, max_col))\n",
        "    \n",
        "    for user_id, item_id, rating in sparse :\n",
        "\n",
        "      result[user_id, item_id] = rating\n",
        "  \n",
        "    return result\n",
        "  \n",
        "  def get_ratings_of_user_id(self, sparse, user_id, max_item_id = None):\n",
        "    '''retrieve user rating vector from sparse format matrix (rows in format [user_id, item_id, rating])\n",
        "    sparse : sparse user matrix\n",
        "    user_id : user_id\n",
        "    max_item_id : len of output rating vector (None to set to the maximum item id in rating matrix )'''\n",
        "\n",
        "    max_mat_item_id = max_item_id if max_item_id else (np.max(sparse[:,1]) +1) #Keep max id item ..\n",
        "    ratings = sparse[sparse[:,0] == user_id]\n",
        "\n",
        "    rating_vect = np.zeros(max_mat_item_id)\n",
        "\n",
        "    for _, item_id, rating in ratings:\n",
        "      if item_id <max_mat_item_id:\n",
        "        rating_vect[item_id] = rating\n",
        "    \n",
        "    return rating_vect\n",
        "  \n",
        "  def get_recommendation(self, ratings, user_vect = None, user = None, nb_recommendations=2, sparse_shape = False, max_col = None):\n",
        "    '''Get recommended items id for given user\n",
        "    ratings : rating matrix\n",
        "    user_vect : user ratings vector, if user is in rating matrix can be left as None\n",
        "    user : user id if id is in ratings matrix, else None\n",
        "    nb_recommendations : number of items to recommend\n",
        "    sparse_shape : set to True if matrix is with rows of format [user_id, item_id, rating]'''\n",
        "    \n",
        "    if not sparse_shape :\n",
        "\n",
        "      indexes = np.random.choice(len(ratings), self.nb_sample, replace=False)\n",
        "\n",
        "      if user :\n",
        "\n",
        "        indexes =[index for index in indexes if index != user]#Do not count user as one of their neighbors\n",
        "\n",
        "        user_vect = ratings[user]\n",
        "\n",
        "      sampled_mat = ratings[indexes]\n",
        "\n",
        "      squared_dist = (sampled_mat-user_vect)**2\n",
        "      \n",
        "      distances = np.sum(squared_dist, axis = 1)\n",
        "\n",
        "      sorted_distances_idx = np.argsort(distances)\n",
        "\n",
        "      neighbors_indexes = sorted_distances_idx[-self.nb_neighbors:]\n",
        "\n",
        "      for i in range(self.nb_neighbors) :\n",
        "\n",
        "        if i == 0:\n",
        "          res = ratings[neighbors_indexes[i]]\n",
        "        else :\n",
        "          res += ratings[neighbors_indexes[i]]\n",
        "      \n",
        "      res = res / self.nb_neighbors\n",
        "\n",
        "      ordered_item_indexes = np.argsort(res)\n",
        "\n",
        "      ordered_item_indexes = [index for index in ordered_item_indexes if user_vect[index]==0]\n",
        "\n",
        "      recommendations = ordered_item_indexes[-nb_recommendations:]\n",
        "    \n",
        "    else:\n",
        "\n",
        "      user_indexes = np.unique(ratings[:,0])\n",
        "\n",
        "      indexes = np.random.choice(user_indexes, self.nb_sample, replace=False)\n",
        "      \n",
        "      if user:\n",
        "        \n",
        "        indexes =[index for index in indexes if index != user]\n",
        "\n",
        "        user_vect = self.get_ratings_of_user_id(ratings, user, max_col)\n",
        "\n",
        "      mask = np.isin(ratings[:,0], indexes)\n",
        "\n",
        "      filtered_sparse_ratings = ratings[mask]\n",
        "\n",
        "      full_matrix = self.get_full_matrix_from_sparse(filtered_sparse_ratings, max_col)\n",
        "\n",
        "      squared_dist = (full_matrix-user_vect)**2\n",
        "      \n",
        "      distances = np.sum(squared_dist, axis = 1)\n",
        "\n",
        "      sorted_distances_idx = np.argsort(distances)\n",
        "\n",
        "      neighbors_indexes = sorted_distances_idx[-self.nb_neighbors:]\n",
        "\n",
        "      for i in range(self.nb_neighbors) :\n",
        "\n",
        "        if i == 0:\n",
        "          res = full_matrix[neighbors_indexes[i]]\n",
        "        else :\n",
        "          res += full_matrix[neighbors_indexes[i]]\n",
        "      \n",
        "      res = res / self.nb_neighbors\n",
        "\n",
        "      ordered_item_indexes = np.argsort(res)\n",
        "\n",
        "      ordered_item_indexes = [index for index in ordered_item_indexes if user_vect[index]==0]\n",
        "      recommendations = ordered_item_indexes[-nb_recommendations:]\n",
        "      \n",
        "\n",
        "    return(recommendations)\n"
      ],
      "metadata": {
        "id": "pEhtcYi7mxWD"
      },
      "execution_count": 3,
      "outputs": []
    },
    {
      "cell_type": "markdown",
      "source": [
        "Below we define a recommender system which samples 200 users from our matrix, and keeps the 10 closest neighbors"
      ],
      "metadata": {
        "id": "AxI00Asz-Lgq"
      }
    },
    {
      "cell_type": "code",
      "source": [
        "rs = nn_recommender(10,200)"
      ],
      "metadata": {
        "id": "TLDOgRPRpmq_"
      },
      "execution_count": 4,
      "outputs": []
    },
    {
      "cell_type": "markdown",
      "source": [
        "First example using toy generated rating matrix to get recommendations for user 300"
      ],
      "metadata": {
        "id": "iGUMFH7R-Ire"
      }
    },
    {
      "cell_type": "code",
      "source": [
        "rs.get_recommendation(ratings, user = 300)"
      ],
      "metadata": {
        "colab": {
          "base_uri": "https://localhost:8080/"
        },
        "id": "_k9wNwIEprQv",
        "outputId": "0f3763d9-d7a3-45c7-fd86-644afd5c565c"
      },
      "execution_count": 5,
      "outputs": [
        {
          "output_type": "execute_result",
          "data": {
            "text/plain": [
              "[625, 868]"
            ]
          },
          "metadata": {},
          "execution_count": 5
        }
      ]
    },
    {
      "cell_type": "markdown",
      "source": [
        "Generate recommendations for a user not in our dataset"
      ],
      "metadata": {
        "id": "mF2MhSjZ_Vxg"
      }
    },
    {
      "cell_type": "code",
      "source": [
        "toy_user_rating = generate_ratings(1,1000,1,5)[0]#Generate toy rating of a single user not in our dataset\n",
        "rs.get_recommendation(ratings, user_vect = toy_user_rating)"
      ],
      "metadata": {
        "colab": {
          "base_uri": "https://localhost:8080/"
        },
        "id": "cSctJszC_IP5",
        "outputId": "874ee73e-58da-4f30-eb72-2ff0ba3e5ac3"
      },
      "execution_count": 7,
      "outputs": [
        {
          "output_type": "execute_result",
          "data": {
            "text/plain": [
              "[909, 941]"
            ]
          },
          "metadata": {},
          "execution_count": 7
        }
      ]
    },
    {
      "cell_type": "markdown",
      "source": [
        "Use our model on Netflix movies rating test dataset"
      ],
      "metadata": {
        "id": "hn3txH7i-agb"
      }
    },
    {
      "cell_type": "code",
      "source": [
        "!gdown https://drive.google.com/uc?id=1aTq-QEQIqOOEn7MrDylAovQE0Ncms6lN"
      ],
      "metadata": {
        "colab": {
          "base_uri": "https://localhost:8080/"
        },
        "id": "SgIO0rgEz1Rm",
        "outputId": "ef8fd3bb-506e-47e8-e98b-fc59ac0c4a34"
      },
      "execution_count": 5,
      "outputs": [
        {
          "output_type": "stream",
          "name": "stdout",
          "text": [
            "Downloading...\n",
            "From: https://drive.google.com/uc?id=1aTq-QEQIqOOEn7MrDylAovQE0Ncms6lN\n",
            "To: /content/netflix_test.txt\n",
            "100% 21.1M/21.1M [00:00<00:00, 60.7MB/s]\n"
          ]
        }
      ]
    },
    {
      "cell_type": "code",
      "source": [
        "test = np.genfromtxt(\"/content/netflix_test.txt\", delimiter = \" \", dtype = \"int32\")[:,[0,1,3]]"
      ],
      "metadata": {
        "id": "wUlH0zzXz3Gt"
      },
      "execution_count": 6,
      "outputs": []
    },
    {
      "cell_type": "markdown",
      "source": [
        "This dataset is in a sparse format : rows of this dataset are of the form [user\\_id, item\\_id, rating].\n",
        "\n",
        "Below an Example of a row of this matrix"
      ],
      "metadata": {
        "id": "bA3hI2H8-gAR"
      }
    },
    {
      "cell_type": "code",
      "source": [
        "test[0]"
      ],
      "metadata": {
        "colab": {
          "base_uri": "https://localhost:8080/"
        },
        "id": "VscOO__r-pIN",
        "outputId": "a3581a43-0b51-41b9-c2a0-64a1adeab105"
      },
      "execution_count": 50,
      "outputs": [
        {
          "output_type": "execute_result",
          "data": {
            "text/plain": [
              "array([4, 1, 4], dtype=int32)"
            ]
          },
          "metadata": {},
          "execution_count": 50
        }
      ]
    },
    {
      "cell_type": "markdown",
      "source": [
        "Keep only 5000 first rows of matrix, avoid using large matrices"
      ],
      "metadata": {
        "id": "uaBBBOzrASJm"
      }
    },
    {
      "cell_type": "code",
      "source": [
        "small_test = test[:5000]"
      ],
      "metadata": {
        "id": "2x41euxf0s-f"
      },
      "execution_count": 7,
      "outputs": []
    },
    {
      "cell_type": "markdown",
      "source": [
        "Get recommendations for user of id 4"
      ],
      "metadata": {
        "id": "YrieEGRoAZJq"
      }
    },
    {
      "cell_type": "code",
      "source": [
        "\n",
        "rs.get_recommendation(test, user = 4, sparse_shape = True)"
      ],
      "metadata": {
        "colab": {
          "base_uri": "https://localhost:8080/"
        },
        "id": "_Bl7A6uA0iiW",
        "outputId": "911675a7-fb3a-4956-c171-eb92a0a7c6fc"
      },
      "execution_count": 45,
      "outputs": [
        {
          "output_type": "execute_result",
          "data": {
            "text/plain": [
              "[28, 30]"
            ]
          },
          "metadata": {},
          "execution_count": 45
        }
      ]
    },
    {
      "cell_type": "markdown",
      "source": [
        "Get recommendations for a user not in dataset"
      ],
      "metadata": {
        "id": "FurKMMEqAbT5"
      }
    },
    {
      "cell_type": "code",
      "source": [
        "max_item_id = np.max(small_test[:,1]) + 1\n",
        "toy_user_rating = generate_ratings(1,max_item_id,5,10)[0]\n",
        "rs.get_recommendation(small_test,user_vect = toy_user_rating, sparse_shape = True)"
      ],
      "metadata": {
        "colab": {
          "base_uri": "https://localhost:8080/"
        },
        "id": "0WYu7-eR_eW8",
        "outputId": "85047e6c-ee80-48dd-b032-9c69cff589a2"
      },
      "execution_count": 8,
      "outputs": [
        {
          "output_type": "execute_result",
          "data": {
            "text/plain": [
              "[8, 30]"
            ]
          },
          "metadata": {},
          "execution_count": 8
        }
      ]
    }
  ]
}