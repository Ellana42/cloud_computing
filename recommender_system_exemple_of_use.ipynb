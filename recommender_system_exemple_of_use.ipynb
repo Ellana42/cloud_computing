{
  "nbformat": 4,
  "nbformat_minor": 0,
  "metadata": {
    "colab": {
      "name": "recommender_system_exemple_of_use.ipynb",
      "provenance": [],
      "collapsed_sections": []
    },
    "kernelspec": {
      "name": "python3",
      "display_name": "Python 3"
    },
    "language_info": {
      "name": "python"
    }
  },
  "cells": [
    {
      "cell_type": "code",
      "source": [
        "import numpy as np\n",
        "import matplotlib.pyplot as plt\n",
        "import pickle"
      ],
      "metadata": {
        "id": "gyPaq4rctRPU"
      },
      "execution_count": 1,
      "outputs": []
    },
    {
      "cell_type": "code",
      "source": [
        "def generate_ratings(nb_rows, nb_cols, min_nb_recomm=1, max_nb_recomm=2, min_rating =1, max_rating=5, seed = 0):\n",
        "  '''Function to generate test rating matrices \n",
        "  nb_rows : nb of users\n",
        "  nb_cols : nb of items\n",
        "  min_nb_recomm : minimum number of recommendation for each user\n",
        "  max_nb_recomm : max number of recommendation for each user\n",
        "  min_rating : minimum rating possible \n",
        "  max_rating : maximum rating possible\n",
        "  seed : np random seed for reproducibility '''\n",
        "  np.random.seed(seed)\n",
        "  ratings = np.zeros((nb_rows,nb_cols))\n",
        "\n",
        "  for i in range(nb_rows):\n",
        "\n",
        "    nb_recomm = np.random.randint(min_nb_recomm, max_nb_recomm+1)\n",
        "\n",
        "    indexes = np.random.choice(np.arange(nb_cols), nb_recomm, replace = False)\n",
        "\n",
        "    for index in indexes :\n",
        "      ratings[i,index] = np.random.randint(min_rating, max_rating)\n",
        "  return ratings.astype(int)"
      ],
      "metadata": {
        "id": "pSbBEWotBk6j"
      },
      "execution_count": 3,
      "outputs": []
    },
    {
      "cell_type": "code",
      "source": [
        "class recommender_system:\n",
        "  '''Simple recommender system class based on matrix factorization'''\n",
        "\n",
        "  def __init__(self, k, lr, lambda_reg):\n",
        "    '''Instantiates recommendation_system class.\n",
        "    k : rank dimension of factorized matrix\n",
        "    lr : learning rate\n",
        "    lambda_reg : regularization parameter\n",
        "    max_value : maximum value possible for the generated matrices to avoid overflow'''\n",
        "    self.k = k\n",
        "    self.lr = lr\n",
        "    self.lambda_reg = lambda_reg\n",
        "    \n",
        "  \n",
        "  def set_k(self, k):\n",
        "    '''Set rank of the two factorized matrices'''\n",
        "    self.k = k\n",
        "  \n",
        "  def set_lr(self, lr):\n",
        "    '''set learning rate '''\n",
        "    self.lr = lr\n",
        "  \n",
        "  def set_lambda_reg(self,lambda_reg):\n",
        "    '''set regularization parameter'''\n",
        "    self.lambda_reg=lambda_reg\n",
        "\n",
        "  def instantiate_matrices(self):\n",
        "    '''Instantiate factorized matrixes'''\n",
        "    self.first_mat = np.random.randn(self.nb_rows, self.k)\n",
        "    self.second_mat = np.random.randn(self.nb_cols, self.k)\n",
        "\n",
        "  def instantiate_initially_pressent_items(self):\n",
        "    '''Creates a 2d list from Ratings. Each row i of this list contains the items that the user i has already rated'''\n",
        "    self.tested_items = [[] for i in range(self.nb_rows)]\n",
        "    for row, col, _ in self.Ratings:\n",
        "      self.tested_items[row].append(col)\n",
        "\n",
        "  def load_sparse_data(self,file_, delimiter = \",\", nb_rows_to_keep = -1, nb_cols_to_keep =-1, shuffle_matrix = True, correct_shape = False):\n",
        "    '''Load data and shape it correctly for recommendation. Output format is a 2d numpy array. Each element of this output\n",
        "      is in the format [row of the rating, column of the rating, Rating]\n",
        "    file : either path to txt or csv file containing the dataset, or matrix to be used for recommendation. If file is a path\n",
        "    shuffle_matrix : Boolean. if set to True\n",
        "    nb_rows_to_keep : Number of rows to keep (if negative, keep all rows)\n",
        "    nb_cols_to_keep : Number of columns to keep (if negative, keep all rows)\n",
        "    correct_shape : set to True if input matrix is already in correct shape'''\n",
        "\n",
        "    if isinstance(file_,str):\n",
        "      grade_matrix = np.genfromtxt(file_, delimiter=delimiter, dtype = \"int32\")\n",
        "\n",
        "    else:\n",
        "      grade_matrix = file_\n",
        "\n",
        "    if not correct_shape :\n",
        "    \n",
        "      self.nb_rows = len(grade_matrix)\n",
        "      self.nb_cols = len(grade_matrix[0])\n",
        "\n",
        "      if nb_rows_to_keep >0 and nb_rows_to_keep < len(grade_matrix):\n",
        "        grade_matrix = grade_matrix[:nb_rows_to_keep]\n",
        "        self.nb_rows = len(grade_matrix)\n",
        "\n",
        "      if nb_cols_to_keep >0 and nb_cols_to_keep < len(grade_matrix[0]):\n",
        "        grade_matrix = grade_matrix[:,:nb_cols_to_keep]\n",
        "        self.nb_cols = len(grade_matrix[0])\n",
        "\n",
        "      self.instantiate_matrices()\n",
        "\n",
        "      non_zero_indexes = np.nonzero(grade_matrix)\n",
        "\n",
        "      n = len(non_zero_indexes[0])\n",
        "      put_in_shape_matrix = np.array([[non_zero_indexes[0][i], non_zero_indexes[1][i], grade_matrix[non_zero_indexes[0][i], non_zero_indexes[1][i]]] for i in range(n)])\n",
        "      put_in_shape_matrix = put_in_shape_matrix.astype(int)\n",
        "\n",
        "      if shuffle_matrix:\n",
        "        np.random.shuffle(put_in_shape_matrix)\n",
        "\n",
        "      self.Ratings = put_in_shape_matrix\n",
        "\n",
        "      self.instantiate_initially_pressent_items()\n",
        "    \n",
        "    else:\n",
        "      \n",
        "      if nb_rows_to_keep >0 :\n",
        "        grade_matrix = grade_matrix[grade_matrix[:,0]<nb_rows_to_keep]\n",
        "      \n",
        "      if nb_cols_to_keep >0:\n",
        "        grade_matrix = grade_matrix[grade_matrix[:,1]<nb_cols_to_keep]\n",
        "\n",
        "      self.Ratings = grade_matrix\n",
        "      \n",
        "      self.nb_rows = np.max(grade_matrix[:,0])+1\n",
        "      self.nb_cols = np.max(grade_matrix[:,1])+1\n",
        "      \n",
        "      self.instantiate_matrices()\n",
        "      self.instantiate_initially_pressent_items()\n",
        "    return None\n",
        "\n",
        "\n",
        "  def root_mean_square_error(self, first_mat, second_mat):\n",
        "    '''Compute avera root mean square error'''\n",
        "    error = 0\n",
        "    Ratings = self.Ratings\n",
        "    for row,col,rating in Ratings:\n",
        "      predicted_ratings = first_mat[row].dot(second_mat[col].T)\n",
        "      error += (rating-predicted_ratings)**2\n",
        "\n",
        "    error = error / len(Ratings)\n",
        "    return np.sqrt(error)\n",
        "\n",
        "  def sgd_gradient_step(self):\n",
        "    '''Stochastic gradient descent of factorized matrixes over a batch of indexex\n",
        "    batch_indexes : array containing [row,col,rating] elements\n",
        "    '''\n",
        "    for row,col,rating in self.Ratings:\n",
        "\n",
        "      predicted_rating = self.first_mat[row].dot(self.second_mat[col].T)\n",
        "      error = rating - predicted_rating\n",
        "\n",
        "      self.first_mat += self.lr*(error*self.second_mat[col] - self.lambda_reg*self.first_mat[row])\n",
        "      self.second_mat += self.lr*(error*self.first_mat[row] - self.lambda_reg*self.second_mat[col])\n",
        "\n",
        "  def matrix_factorization(self, number_iterations):\n",
        "    losses = []\n",
        "    for i in range(number_iterations):\n",
        "      self.sgd_gradient_step()\n",
        "      loss = self.root_mean_square_error(self.first_mat, self.second_mat)\n",
        "      losses.append(loss)\n",
        "      print(\"RMSE after epoch is :\",loss)\n",
        "    return losses\n",
        "\n",
        "  def get_recommendation(self, user_id, nb_recom = 2):\n",
        "    curr_ratings = np.array(np.matmul(self.first_mat, self.second_mat.T)[user_id])\n",
        "\n",
        "    ordered_item_indexes = np.argsort(curr_ratings)\n",
        "    ordered_item_indexes = [index for index in ordered_item_indexes if index not in self.tested_items[user_id]]\n",
        "    nb_recom = nb_recom if nb_recom< len(ordered_item_indexes) else len(ordered_item_indexes)\n",
        "    recommendations = ordered_item_indexes[-nb_recom:]\n",
        "\n",
        "    return recommendations\n",
        "  \n",
        "  def save_model(self, path):\n",
        "    '''Save a pickled version of the model's parameters\n",
        "    path : path under which to save pickled parameters'''\n",
        "    to_save = [self.first_mat.tolist(), self.second_mat.tolist(), self.k]\n",
        "    with open(path,\"wb\") as f:\n",
        "      pickle.dump(to_save, f)\n",
        "    print(\"Done\")\n",
        "    return None\n",
        "  \n",
        "  def load_model(self,path):\n",
        "    '''Load model from pickled parameters\n",
        "    path : path to pickled parameters'''\n",
        "    with open(path,'rb') as f:\n",
        "      parameters = pickle.load(f)\n",
        "    self.first_mat = np.array(parameters[0]).astype(int)\n",
        "    self.second_mat = np.array(parameters[1]).astype(int)\n",
        "    self.k = parameters[2]\n",
        "  \n",
        "\n",
        "  def get_nearest_neighbors(self, user_rating, nb_neighbors):\n",
        "    '''Given a user which is not present in our dataset, find nearest neighbors\n",
        "    user_rating : 1D vector containing user rating\n",
        "    nb_neighbors : number of neighbors indexes that we want to retrieve'''\n",
        "    ratings = np.matmul(self.first_mat, self.second_mat.T)\n",
        "    \n",
        "    squared_dist = (ratings-user_rating)**2\n",
        "\n",
        "    distances = np.sum(squared_dist, axis = 1)\n",
        "\n",
        "    sorted_distances_idx = np.argsort(distances)\n",
        "\n",
        "    closest = sorted_distances_idx[-nb_neighbors:]\n",
        "\n",
        "    return(closest)\n",
        "  \n",
        "\n",
        "  def get_recommendation_new_user(self, user_rating, nb_recom, nb_neighbors=10):\n",
        "\n",
        "    rated_items = np.nonzero(user_rating)[0]\n",
        "\n",
        "    neighbors_indexes = self.get_nearest_neighbors(user_rating, nb_neighbors)\n",
        "    ratings = np.matmul(self.first_mat, self.second_mat.T)\n",
        "    for i in range(nb_neighbors) :\n",
        "\n",
        "      if i == 0:\n",
        "        res = ratings[neighbors_indexes[i]]\n",
        "      else :\n",
        "        res += ratings[neighbors_indexes[i]]\n",
        "    \n",
        "    res = res / nb_neighbors\n",
        "\n",
        "    ordered_item_indexes = np.argsort(res)\n",
        "\n",
        "    ordered_item_indexes = [index for index in ordered_item_indexes if index not in rated_items]\n",
        "\n",
        "    recommendations = ordered_item_indexes[-nb_recom:]\n",
        "\n",
        "    return(recommendations)\n"
      ],
      "metadata": {
        "id": "YnxxhuTvsz19"
      },
      "execution_count": 9,
      "outputs": []
    },
    {
      "cell_type": "markdown",
      "source": [
        "Test our model on toy generated ratings"
      ],
      "metadata": {
        "id": "0vjaiWfj9P3H"
      }
    },
    {
      "cell_type": "code",
      "source": [
        "#Toy ratings with 500 users and 1000 items\n",
        "ratings = generate_ratings(500,1000,2,5)\n",
        "#Instantiates recommender system\n",
        "rec_sys = recommender_system(70, 0.0001, 1)\n",
        "#Load ratings\n",
        "rec_sys.load_sparse_data(ratings)"
      ],
      "metadata": {
        "id": "Om_WI8yxEHx-"
      },
      "execution_count": null,
      "outputs": []
    },
    {
      "cell_type": "code",
      "source": [
        "#Train system for 50 epochs\n",
        "n_epochs = 50\n",
        "losses = rec_sys.matrix_factorization(n_epochs)"
      ],
      "metadata": {
        "colab": {
          "base_uri": "https://localhost:8080/"
        },
        "id": "-tbeBZYGEUtD",
        "outputId": "f0abad57-577a-4782-bbfc-795321cae110"
      },
      "execution_count": null,
      "outputs": [
        {
          "output_type": "stream",
          "name": "stdout",
          "text": [
            "RMSE after epoch is : 8.787029132921063\n",
            "RMSE after epoch is : 8.69535359370241\n",
            "RMSE after epoch is : 8.599306128167857\n",
            "RMSE after epoch is : 8.506349730935002\n",
            "RMSE after epoch is : 8.432030110474077\n",
            "RMSE after epoch is : 8.38169230705401\n",
            "RMSE after epoch is : 8.350614089052822\n",
            "RMSE after epoch is : 8.33192241464427\n",
            "RMSE after epoch is : 8.320541656777571\n",
            "RMSE after epoch is : 8.313411334393805\n",
            "RMSE after epoch is : 8.308793157270856\n",
            "RMSE after epoch is : 8.30570320176468\n",
            "RMSE after epoch is : 8.303573413051094\n",
            "RMSE after epoch is : 8.302066125201385\n",
            "RMSE after epoch is : 8.300974158077278\n",
            "RMSE after epoch is : 8.300166453064417\n",
            "RMSE after epoch is : 8.29955777636043\n",
            "RMSE after epoch is : 8.29909131966612\n",
            "RMSE after epoch is : 8.298728389170474\n",
            "RMSE after epoch is : 8.298442111211358\n",
            "RMSE after epoch is : 8.298213486848605\n",
            "RMSE after epoch is : 8.298028861205024\n",
            "RMSE after epoch is : 8.297878267522025\n",
            "RMSE after epoch is : 8.297754324368807\n",
            "RMSE after epoch is : 8.297651489497056\n",
            "RMSE after epoch is : 8.297565547549182\n",
            "RMSE after epoch is : 8.29749325342416\n",
            "RMSE after epoch is : 8.29743208068752\n",
            "RMSE after epoch is : 8.297380041791664\n",
            "RMSE after epoch is : 8.297335558000606\n",
            "RMSE after epoch is : 8.297297364135487\n",
            "RMSE after epoch is : 8.297264438003426\n",
            "RMSE after epoch is : 8.297235947527579\n",
            "RMSE after epoch is : 8.297211210715153\n",
            "RMSE after epoch is : 8.297189665039953\n",
            "RMSE after epoch is : 8.297170843802174\n",
            "RMSE after epoch is : 8.297154357712948\n",
            "RMSE after epoch is : 8.297139880429437\n",
            "RMSE after epoch is : 8.297127137104875\n",
            "RMSE after epoch is : 8.29711589525986\n",
            "RMSE after epoch is : 8.297105957455635\n",
            "RMSE after epoch is : 8.297097155376667\n",
            "RMSE after epoch is : 8.2970893450242\n",
            "RMSE after epoch is : 8.297082402790519\n",
            "RMSE after epoch is : 8.297076222236516\n",
            "RMSE after epoch is : 8.297070711434044\n",
            "RMSE after epoch is : 8.29706579076399\n",
            "RMSE after epoch is : 8.297061391084409\n",
            "RMSE after epoch is : 8.297057452200303\n",
            "RMSE after epoch is : 8.297053921580565\n"
          ]
        }
      ]
    },
    {
      "cell_type": "code",
      "source": [
        "#Loss evolution over epochs\n",
        "plt.plot(range(n_epochs),losses)\n",
        "plt.show()"
      ],
      "metadata": {
        "colab": {
          "base_uri": "https://localhost:8080/",
          "height": 265
        },
        "id": "Rvu1EfTsEoiW",
        "outputId": "d8852a93-3e54-46b0-df1d-6cfdc8eb8a62"
      },
      "execution_count": null,
      "outputs": [
        {
          "output_type": "display_data",
          "data": {
            "text/plain": [
              "<Figure size 432x288 with 1 Axes>"
            ],
            "image/png": "[encoded data removed]"
          },
          "metadata": {
            "needs_background": "light"
          }
        }
      ]
    },
    {
      "cell_type": "code",
      "source": [
        "#Get 2 item recommendations for user with id 2\n",
        "rec_sys.get_recommendation(2)"
      ],
      "metadata": {
        "colab": {
          "base_uri": "https://localhost:8080/"
        },
        "id": "QrwBqhO3E6It",
        "outputId": "cc49879f-64dc-4fb6-9887-3ec2ee0c8ae2"
      },
      "execution_count": null,
      "outputs": [
        {
          "output_type": "execute_result",
          "data": {
            "text/plain": [
              "[195, 854]"
            ]
          },
          "metadata": {},
          "execution_count": 7
        }
      ]
    },
    {
      "cell_type": "code",
      "source": [
        "#Generate a new user not present in the rating matrix\n",
        "user_vector = np.zeros(1000)\n",
        "\n",
        "for i in range(5):\n",
        "  user_vector[np.random.randint(0,1000)] = np.random.randint(1,5)"
      ],
      "metadata": {
        "id": "L1V0fwzQ8f5r"
      },
      "execution_count": null,
      "outputs": []
    },
    {
      "cell_type": "code",
      "source": [
        "#Get recommendation for the new user generated above\n",
        "rec_sys.get_recommendation_new_user(user_vector,2)"
      ],
      "metadata": {
        "colab": {
          "base_uri": "https://localhost:8080/"
        },
        "id": "4S92EBhL8zR2",
        "outputId": "9c98ba22-d3f7-4ab8-a519-29709656cfc8"
      },
      "execution_count": null,
      "outputs": [
        {
          "output_type": "execute_result",
          "data": {
            "text/plain": [
              "[586, 744]"
            ]
          },
          "metadata": {},
          "execution_count": 12
        }
      ]
    },
    {
      "cell_type": "markdown",
      "source": [
        "#Netflix"
      ],
      "metadata": {
        "id": "gKtJsyjz97uk"
      }
    },
    {
      "cell_type": "code",
      "source": [
        "#Download netflix test rating file\n",
        "!gdown https://drive.google.com/uc?id=1aTq-QEQIqOOEn7MrDylAovQE0Ncms6lN"
      ],
      "metadata": {
        "id": "hiYCCuiqGUaZ"
      },
      "execution_count": null,
      "outputs": []
    },
    {
      "cell_type": "code",
      "source": [
        "#retrive ratings from file\n",
        "test = np.genfromtxt(\"/content/netflix_test.txt\", delimiter = \" \", dtype = \"int32\")[:,[0,1,3]]"
      ],
      "metadata": {
        "id": "LBce-DYVGgG5"
      },
      "execution_count": 14,
      "outputs": []
    },
    {
      "cell_type": "code",
      "source": [
        "#Netflix data is a 2d matrix, each row is in the format [user_id, item_id , something we don't care about, ratings]\n",
        "#We don't need index 2, which is why we only keep indexes 0, 1 and 3\n",
        "test[:,[0,1,3]]"
      ],
      "metadata": {
        "colab": {
          "base_uri": "https://localhost:8080/"
        },
        "id": "j7lB8dYoH_uu",
        "outputId": "b7e742b2-75f0-4428-896c-3062aca3d4fd"
      },
      "execution_count": null,
      "outputs": [
        {
          "output_type": "execute_result",
          "data": {
            "text/plain": [
              "array([[     4,      1,      4],\n",
              "       [    48,      1,      4],\n",
              "       [    60,      1,      3],\n",
              "       ...,\n",
              "       [174372,  17770,      2],\n",
              "       [206132,  17770,      3],\n",
              "       [221852,  17770,      3]], dtype=int32)"
            ]
          },
          "metadata": {},
          "execution_count": 24
        }
      ]
    },
    {
      "cell_type": "code",
      "source": [
        "#Create recommender system with latent dimension k = 100, learning rate of 0.0001 and regularization parameter of 1\n",
        "rec_sys = recommender_system(100, 0.0001, 1)"
      ],
      "metadata": {
        "id": "14aSn4pFkm4g"
      },
      "execution_count": 34,
      "outputs": []
    },
    {
      "cell_type": "code",
      "source": [
        "#Load users with index <5000, items with index <5000\n",
        "rec_sys.load_sparse_data(test, nb_rows_to_keep = 5000, nb_cols_to_keep = 5000, correct_shape = True)"
      ],
      "metadata": {
        "id": "Digj3l6skobY"
      },
      "execution_count": 35,
      "outputs": []
    },
    {
      "cell_type": "code",
      "source": [
        "#Train model above for 100 epochs\n",
        "n_epochs = 100\n",
        "losses = rec_sys.matrix_factorization(n_epochs)"
      ],
      "metadata": {
        "colab": {
          "base_uri": "https://localhost:8080/"
        },
        "id": "AAcGQyO_mZAk",
        "outputId": "0cd48ef2-b1c1-4dd2-b224-71935a7b325f"
      },
      "execution_count": 37,
      "outputs": [
        {
          "output_type": "stream",
          "name": "stdout",
          "text": [
            "RMSE after epoch is : 9.985555641554521\n",
            "RMSE after epoch is : 9.982334697656125\n",
            "RMSE after epoch is : 9.978623679682125\n",
            "RMSE after epoch is : 9.976319709982878\n",
            "RMSE after epoch is : 9.974931695641992\n",
            "RMSE after epoch is : 9.97407419395256\n",
            "RMSE after epoch is : 9.973528939361662\n",
            "RMSE after epoch is : 9.973173180837144\n",
            "RMSE after epoch is : 9.97293575595552\n",
            "RMSE after epoch is : 9.972774080307435\n",
            "RMSE after epoch is : 9.97266195975571\n",
            "RMSE after epoch is : 9.972582898068959\n",
            "RMSE after epoch is : 9.972526289615756\n",
            "RMSE after epoch is : 9.97248518738643\n",
            "RMSE after epoch is : 9.972454961533531\n",
            "RMSE after epoch is : 9.972432475953369\n",
            "RMSE after epoch is : 9.97241557344271\n",
            "RMSE after epoch is : 9.972402748371383\n",
            "RMSE after epoch is : 9.972392935312778\n",
            "RMSE after epoch is : 9.972385370522511\n",
            "RMSE after epoch is : 9.972379499857727\n",
            "RMSE after epoch is : 9.972374916719586\n",
            "RMSE after epoch is : 9.97237131966707\n",
            "RMSE after epoch is : 9.972368483090612\n",
            "RMSE after epoch is : 9.972366236667652\n",
            "RMSE after epoch is : 9.972364450797748\n",
            "RMSE after epoch is : 9.972363026159432\n",
            "RMSE after epoch is : 9.972361886141954\n",
            "RMSE after epoch is : 9.972360971304967\n",
            "RMSE after epoch is : 9.97236023528491\n",
            "RMSE after epoch is : 9.97235964174384\n",
            "RMSE after epoch is : 9.972359162076824\n",
            "RMSE after epoch is : 9.972358773676802\n",
            "RMSE after epoch is : 9.972358458612156\n",
            "RMSE after epoch is : 9.972358202612732\n",
            "RMSE after epoch is : 9.972357994287776\n",
            "RMSE after epoch is : 9.972357824519655\n",
            "RMSE after epoch is : 9.972357685991607\n",
            "RMSE after epoch is : 9.972357572818199\n",
            "RMSE after epoch is : 9.972357480255036\n",
            "RMSE after epoch is : 9.972357404469854\n",
            "RMSE after epoch is : 9.972357342361349\n",
            "RMSE after epoch is : 9.97235729141548\n",
            "RMSE after epoch is : 9.972357249591001\n",
            "RMSE after epoch is : 9.972357215227872\n",
            "RMSE after epoch is : 9.972357186974524\n",
            "RMSE after epoch is : 9.972357163728784\n",
            "RMSE after epoch is : 9.972357144591031\n",
            "RMSE after epoch is : 9.972357128825925\n",
            "RMSE after epoch is : 9.972357115831949\n",
            "RMSE after epoch is : 9.972357105116432\n",
            "RMSE after epoch is : 9.972357096275616\n",
            "RMSE after epoch is : 9.9723570889782\n",
            "RMSE after epoch is : 9.972357082952197\n",
            "RMSE after epoch is : 9.97235707797411\n",
            "RMSE after epoch is : 9.97235707386019\n",
            "RMSE after epoch is : 9.972357070459214\n",
            "RMSE after epoch is : 9.972357067646744\n",
            "RMSE after epoch is : 9.972357065320223\n",
            "RMSE after epoch is : 9.972357063395112\n",
            "RMSE after epoch is : 9.97235706180175\n",
            "RMSE after epoch is : 9.972357060482647\n",
            "RMSE after epoch is : 9.972357059390257\n",
            "RMSE after epoch is : 9.972357058485484\n",
            "RMSE after epoch is : 9.972357057735938\n",
            "RMSE after epoch is : 9.972357057114845\n",
            "RMSE after epoch is : 9.972357056600092\n",
            "RMSE after epoch is : 9.972357056173406\n",
            "RMSE after epoch is : 9.97235705581964\n",
            "RMSE after epoch is : 9.972357055526338\n",
            "RMSE after epoch is : 9.97235705528306\n",
            "RMSE after epoch is : 9.972357055081309\n",
            "RMSE after epoch is : 9.97235705491393\n",
            "RMSE after epoch is : 9.972357054775058\n",
            "RMSE after epoch is : 9.972357054659826\n",
            "RMSE after epoch is : 9.972357054564219\n",
            "RMSE after epoch is : 9.97235705448485\n",
            "RMSE after epoch is : 9.972357054418998\n",
            "RMSE after epoch is : 9.972357054364316\n",
            "RMSE after epoch is : 9.972357054318909\n",
            "RMSE after epoch is : 9.972357054281202\n",
            "RMSE after epoch is : 9.972357054249935\n",
            "RMSE after epoch is : 9.972357054223949\n",
            "RMSE after epoch is : 9.972357054202327\n",
            "RMSE after epoch is : 9.972357054184423\n",
            "RMSE after epoch is : 9.97235705416952\n",
            "RMSE after epoch is : 9.97235705415717\n",
            "RMSE after epoch is : 9.972357054146892\n",
            "RMSE after epoch is : 9.972357054138355\n",
            "RMSE after epoch is : 9.972357054131262\n",
            "RMSE after epoch is : 9.9723570541254\n",
            "RMSE after epoch is : 9.972357054120469\n",
            "RMSE after epoch is : 9.972357054116397\n",
            "RMSE after epoch is : 9.97235705411302\n",
            "RMSE after epoch is : 9.972357054110196\n",
            "RMSE after epoch is : 9.972357054107885\n",
            "RMSE after epoch is : 9.972357054105922\n",
            "RMSE after epoch is : 9.972357054104327\n",
            "RMSE after epoch is : 9.97235705410297\n",
            "RMSE after epoch is : 9.972357054101876\n"
          ]
        }
      ]
    },
    {
      "cell_type": "code",
      "source": [
        "#Evolution of loss over epochs\n",
        "plt.plot(range(100),losses)\n",
        "plt.show()"
      ],
      "metadata": {
        "colab": {
          "base_uri": "https://localhost:8080/",
          "height": 266
        },
        "id": "znj0meNbym7L",
        "outputId": "342c0cf4-5e97-4fb2-e317-643dd70b956e"
      },
      "execution_count": 38,
      "outputs": [
        {
          "output_type": "display_data",
          "data": {
            "text/plain": [
              "<Figure size 432x288 with 1 Axes>"
            ],
            "image/png": "[encoded data removed]"
          },
          "metadata": {
            "needs_background": "light"
          }
        }
      ]
    },
    {
      "cell_type": "code",
      "source": [
        "#Save results of model\n",
        "rec_sys.save_model(\"/content/reduced_netflix_model.pickle\")"
      ],
      "metadata": {
        "colab": {
          "base_uri": "https://localhost:8080/"
        },
        "id": "HM_ig8WIysf4",
        "outputId": "333a72c8-7802-4af2-8b5d-a98b94968578"
      },
      "execution_count": 39,
      "outputs": [
        {
          "output_type": "stream",
          "name": "stdout",
          "text": [
            "Done\n"
          ]
        }
      ]
    },
    {
      "cell_type": "code",
      "source": [
        "#How to load model from weights\n",
        "recommend_system_from_weights = recommender_system(100, 0.0001, 1)\n",
        "recommend_system_from_weights.load_model(\"/content/reduced_netflix_model.pickle\")"
      ],
      "metadata": {
        "id": "g8oB8e3Ay_Gb"
      },
      "execution_count": 40,
      "outputs": []
    },
    {
      "cell_type": "code",
      "source": [
        "#generated new toy user, rating vector is of size 4997\n",
        "new_user = generate_ratings(1,4997,10,30)[0]\n",
        "new_user"
      ],
      "metadata": {
        "colab": {
          "base_uri": "https://localhost:8080/"
        },
        "id": "1RHFTMv-zLzQ",
        "outputId": "12562cb3-86b3-450f-a8be-14005d1f09df"
      },
      "execution_count": 43,
      "outputs": [
        {
          "output_type": "execute_result",
          "data": {
            "text/plain": [
              "array([0, 0, 0, ..., 0, 0, 0])"
            ]
          },
          "metadata": {},
          "execution_count": 43
        }
      ]
    },
    {
      "cell_type": "code",
      "source": [
        "#get recommendations for user\n",
        "recommend_system_from_weights.get_recommendation_new_user(new_user,5)"
      ],
      "metadata": {
        "colab": {
          "base_uri": "https://localhost:8080/"
        },
        "id": "0QUa4tCRzG9V",
        "outputId": "c1d2f5f1-ec55-4517-c895-b89a5e5136cb"
      },
      "execution_count": 44,
      "outputs": [
        {
          "output_type": "execute_result",
          "data": {
            "text/plain": [
              "[1895, 1571, 1141, 4008, 3946]"
            ]
          },
          "metadata": {},
          "execution_count": 44
        }
      ]
    }
  ]
}