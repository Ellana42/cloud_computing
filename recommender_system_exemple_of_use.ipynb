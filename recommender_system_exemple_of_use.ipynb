{
  "nbformat": 4,
  "nbformat_minor": 0,
  "metadata": {
    "colab": {
      "name": "recommender_system_exemple_of_use.ipynb",
      "provenance": []
    },
    "kernelspec": {
      "name": "python3",
      "display_name": "Python 3"
    },
    "language_info": {
      "name": "python"
    }
  },
  "cells": [
    {
      "cell_type": "code",
      "source": [
        "import numpy as np\n",
        "import matplotlib.pyplot as plt"
      ],
      "metadata": {
        "id": "gyPaq4rctRPU"
      },
      "execution_count": 84,
      "outputs": []
    },
    {
      "cell_type": "code",
      "source": [
        "def generate_ratings(nb_rows, nb_cols, min_nb_recomm=1, max_nb_recomm=2, max_rating=5, seed = 0):\n",
        "  np.random.seed(seed)\n",
        "  ratings = np.zeros((nb_rows,nb_cols))\n",
        "\n",
        "  for i in range(nb_rows):\n",
        "\n",
        "    nb_recomm = np.random.randint(min_nb_recomm, max_nb_recomm+1)\n",
        "\n",
        "    indexes = np.random.choice(np.arange(nb_cols), nb_recomm, replace = False)\n",
        "\n",
        "    for index in indexes :\n",
        "      ratings[i,index] = np.random.randint(max_rating)\n",
        "  return ratings.astype(int)\n",
        "\n",
        "ratings = generate_ratings(100,30,2,5)"
      ],
      "metadata": {
        "id": "pSbBEWotBk6j"
      },
      "execution_count": 81,
      "outputs": []
    },
    {
      "cell_type": "code",
      "source": [
        "ratings"
      ],
      "metadata": {
        "colab": {
          "base_uri": "https://localhost:8080/"
        },
        "id": "vNR6draZEAa5",
        "outputId": "a084c88c-8a4c-4ba6-d108-3463348526be"
      },
      "execution_count": 82,
      "outputs": [
        {
          "output_type": "execute_result",
          "data": {
            "text/plain": [
              "array([[0, 0, 0, ..., 0, 0, 2],\n",
              "       [0, 0, 0, ..., 0, 2, 0],\n",
              "       [0, 1, 0, ..., 0, 0, 0],\n",
              "       ...,\n",
              "       [0, 0, 0, ..., 0, 0, 0],\n",
              "       [0, 0, 3, ..., 0, 2, 0],\n",
              "       [0, 0, 0, ..., 0, 0, 0]])"
            ]
          },
          "metadata": {},
          "execution_count": 82
        }
      ]
    },
    {
      "cell_type": "code",
      "source": [
        "\n",
        "    \n",
        "    "
      ],
      "metadata": {
        "id": "YnxxhuTvsz19"
      },
      "execution_count": 71,
      "outputs": []
    },
    {
      "cell_type": "code",
      "source": [
        "rec_sys = recommender_system(5, 0.01, 1)\n",
        "rec_sys.load_sparse_data(ratings)"
      ],
      "metadata": {
        "id": "Om_WI8yxEHx-"
      },
      "execution_count": 89,
      "outputs": []
    },
    {
      "cell_type": "code",
      "source": [
        "n_epochs = 10\n",
        "losses = rec_sys.matrix_factorization(n_epochs)"
      ],
      "metadata": {
        "colab": {
          "base_uri": "https://localhost:8080/"
        },
        "id": "-tbeBZYGEUtD",
        "outputId": "c01f89c9-3882-4ca6-f5c4-822a60ff56fd"
      },
      "execution_count": 90,
      "outputs": [
        {
          "output_type": "stream",
          "name": "stdout",
          "text": [
            "RMSE after epoch is : 3.1891483017138578\n",
            "RMSE after epoch is : 3.1299862132102687\n",
            "RMSE after epoch is : 3.1074617727305864\n",
            "RMSE after epoch is : 3.096874551352357\n",
            "RMSE after epoch is : 3.090879364314619\n",
            "RMSE after epoch is : 3.0869373601623673\n",
            "RMSE after epoch is : 3.0840575239382053\n",
            "RMSE after epoch is : 3.081805352011532\n",
            "RMSE after epoch is : 3.0799678439824714\n",
            "RMSE after epoch is : 3.0784286206989604\n"
          ]
        }
      ]
    },
    {
      "cell_type": "code",
      "source": [
        "plt.plot(range(n_epochs),losses)\n",
        "plt.show()"
      ],
      "metadata": {
        "colab": {
          "base_uri": "https://localhost:8080/",
          "height": 265
        },
        "id": "Rvu1EfTsEoiW",
        "outputId": "a3bb694d-b0e0-4d40-cf2d-9254665b252a"
      },
      "execution_count": 92,
      "outputs": [
        {
          "output_type": "display_data",
          "data": {
            "text/plain": [
              "<Figure size 432x288 with 1 Axes>"
            ],
            "image/png": "[encoded data removed]"
          },
          "metadata": {
            "needs_background": "light"
          }
        }
      ]
    },
    {
      "cell_type": "code",
      "source": [
        "rec_sys.get_recommendation(2)"
      ],
      "metadata": {
        "colab": {
          "base_uri": "https://localhost:8080/"
        },
        "id": "QrwBqhO3E6It",
        "outputId": "ec16c708-48bc-4e17-fe1c-8735142fea51"
      },
      "execution_count": 93,
      "outputs": [
        {
          "output_type": "execute_result",
          "data": {
            "text/plain": [
              "[22, 20]"
            ]
          },
          "metadata": {},
          "execution_count": 93
        }
      ]
    }
  ]
}